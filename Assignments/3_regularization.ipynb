{
 "cells": [
  {
   "cell_type": "code",
   "execution_count": 2,
   "metadata": {
    "collapsed": true,
    "deletable": true,
    "editable": true
   },
   "outputs": [],
   "source": [
    "import numpy as np\n",
    "import tensorflow as tf\n",
    "import pickle"
   ]
  },
  {
   "cell_type": "code",
   "execution_count": 3,
   "metadata": {
    "collapsed": false,
    "deletable": true,
    "editable": true
   },
   "outputs": [
    {
     "name": "stdout",
     "output_type": "stream",
     "text": [
      "Training set (200000, 28, 28) (200000,)\n",
      "Validation set (10000, 28, 28) (10000,)\n",
      "Test set (10000, 28, 28) (10000,)\n"
     ]
    }
   ],
   "source": [
    "pickle_file = 'notMNIST.pickle'\n",
    "with open(pickle_file,'rb') as f:\n",
    "  save = pickle.load(f)\n",
    "  train_dataset = save['train_dataset']\n",
    "  train_labels = save['train_labels']\n",
    "  valid_dataset = save['valid_dataset']\n",
    "  valid_labels = save['valid_labels']\n",
    "  test_dataset = save['test_dataset']\n",
    "  test_labels = save['test_labels']\n",
    "  del save  # hint to help gc free up memory\n",
    "  print('Training set', train_dataset.shape, train_labels.shape)\n",
    "  print('Validation set', valid_dataset.shape, valid_labels.shape)\n",
    "  print('Test set', test_dataset.shape, test_labels.shape)"
   ]
  },
  {
   "cell_type": "code",
   "execution_count": 4,
   "metadata": {
    "collapsed": false,
    "deletable": true,
    "editable": true
   },
   "outputs": [
    {
     "name": "stdout",
     "output_type": "stream",
     "text": [
      "Training set (200000, 784) (200000, 10)\n",
      "Validation set (10000, 784) (10000, 10)\n",
      "Test set (10000, 784) (10000, 10)\n"
     ]
    }
   ],
   "source": [
    "image_size = 28\n",
    "num_labels = 10\n",
    "\n",
    "def reformat(dataset, labels):\n",
    "  dataset = dataset.reshape((-1, image_size * image_size)).astype(np.float32)\n",
    "  # Map 1 to [0.0, 1.0, 0.0 ...], 2 to [0.0, 0.0, 1.0 ...]\n",
    "  labels = (np.arange(num_labels) == labels[:,None]).astype(np.float32)\n",
    "  return dataset, labels\n",
    "train_dataset, train_labels = reformat(train_dataset, train_labels)\n",
    "valid_dataset, valid_labels = reformat(valid_dataset, valid_labels)\n",
    "test_dataset, test_labels = reformat(test_dataset, test_labels)\n",
    "print('Training set', train_dataset.shape, train_labels.shape)\n",
    "print('Validation set', valid_dataset.shape, valid_labels.shape)\n",
    "print('Test set', test_dataset.shape, test_labels.shape)"
   ]
  },
  {
   "cell_type": "code",
   "execution_count": 21,
   "metadata": {
    "collapsed": true,
    "deletable": true,
    "editable": true
   },
   "outputs": [],
   "source": [
    "def accuracy(predictions, labels):\n",
    "  return (100.0 * np.sum(np.argmax(predictions, 1) == np.argmax(labels, 1))\n",
    "          / predictions.shape[0])"
   ]
  },
  {
   "cell_type": "code",
   "execution_count": 6,
   "metadata": {
    "collapsed": false,
    "deletable": true,
    "editable": true
   },
   "outputs": [],
   "source": [
    "# Logistic regression with l2 loss function\n",
    "# multinomial logistic regression \n",
    "train_subset = 10000\n",
    "beta = 0.01\n",
    "\n",
    "graph = tf.Graph()\n",
    "with graph.as_default():\n",
    "    \n",
    "    #Input Data\n",
    "    tf_train_dataset = tf.constant(train_dataset[:train_subset,:])\n",
    "    tf_train_labels = tf.constant(train_labels[:train_subset,:])\n",
    "    tf_valid_dataset = tf.constant(valid_dataset)\n",
    "    tf_test_dataset = tf.constant(test_dataset)\n",
    "    \n",
    "    #Variables\n",
    "    weights = tf.Variable(\n",
    "    tf.truncated_normal([image_size*image_size,num_labels]))\n",
    "    biases = tf.Variable(tf.zeros([num_labels]))\n",
    "    \n",
    "    #Training computation\n",
    "    logits = tf.matmul(tf_train_dataset,weights)+biases\n",
    "    \n",
    "    #loss funciton using l2 reguralization\n",
    "    loss = tf.reduce_mean(tf.nn.softmax_cross_entropy_with_logits(logits,tf_train_labels))\n",
    "    loss = tf.reduce_mean(loss + beta*tf.nn.l2_loss(weights))\n",
    "    \n",
    "    #Optimizer\n",
    "    optimizer = tf.train.GradientDescentOptimizer(0.5).minimize(loss)\n",
    "    \n",
    "    #Predictions for the training, validation, test data set\n",
    "    train_prediciton = tf.nn.softmax(logits)\n",
    "    valid_prediction =  tf.nn.softmax(tf.matmul(tf_valid_dataset,weights)+ biases)\n",
    "    test_prediction = tf.nn.softmax(tf.matmul(tf_test_dataset, weights) + biases)"
   ]
  },
  {
   "cell_type": "code",
   "execution_count": 13,
   "metadata": {
    "collapsed": false,
    "deletable": true,
    "editable": true
   },
   "outputs": [
    {
     "name": "stdout",
     "output_type": "stream",
     "text": [
      "Initialized\n",
      "Loss at step 0: 46.009590\n",
      "Training accuracyL 12.110000%\n",
      "Validation accuracy: 16.7%\n",
      "Test accuracy: 17.5%\n",
      "Loss at step 100: 11.852741\n",
      "Training accuracyL 73.760000%\n",
      "Validation accuracy: 73.7%\n",
      "Test accuracy: 80.3%\n",
      "Loss at step 200: 4.483960\n",
      "Training accuracyL 78.750000%\n",
      "Validation accuracy: 78.0%\n",
      "Test accuracy: 84.6%\n",
      "Loss at step 300: 1.982266\n",
      "Training accuracyL 81.890000%\n",
      "Validation accuracy: 80.6%\n",
      "Test accuracy: 87.2%\n",
      "Loss at step 400: 1.130756\n",
      "Training accuracyL 83.680000%\n",
      "Validation accuracy: 82.2%\n",
      "Test accuracy: 88.3%\n",
      "Loss at step 500: 0.837687\n",
      "Training accuracyL 84.380000%\n",
      "Validation accuracy: 82.8%\n",
      "Test accuracy: 88.5%\n",
      "Loss at step 600: 0.735707\n",
      "Training accuracyL 84.630000%\n",
      "Validation accuracy: 82.9%\n",
      "Test accuracy: 88.5%\n",
      "Loss at step 700: 0.699915\n",
      "Training accuracyL 84.650000%\n",
      "Validation accuracy: 82.9%\n",
      "Test accuracy: 88.5%\n",
      "Loss at step 800: 0.687265\n",
      "Training accuracyL 84.650000%\n",
      "Validation accuracy: 83.0%\n",
      "Test accuracy: 88.6%\n"
     ]
    }
   ],
   "source": [
    "num_steps = 801\n",
    "with tf.Session(graph=graph) as sess:\n",
    "    tf.global_variables_initializer().run()\n",
    "    print(\"Initialized\")\n",
    "    for step in range(num_steps):\n",
    "        _,l,prediction = sess.run([optimizer,loss,train_prediciton])\n",
    "        \n",
    "        if step % 100 == 0:\n",
    "            print(\"Loss at step %d: %f\" % (step,l))\n",
    "            print(\"Training accuracyL %f%%\"%accuracy(prediction,train_labels[:train_subset, :]))\n",
    "            print(\"Validation accuracy: %.1f%%\"%accuracy(valid_prediction.eval(),valid_labels))\n",
    "            print(\"Test accuracy: %.1f%%\"%accuracy(test_prediction.eval(),test_labels))"
   ]
  },
  {
   "cell_type": "code",
   "execution_count": 27,
   "metadata": {
    "collapsed": false
   },
   "outputs": [],
   "source": [
    "#Neural Network Model\n",
    "batch_size =128\n",
    "beta = 0.01\n",
    "\n",
    "graph = tf.Graph()\n",
    "with graph.as_default():\n",
    "    #Input data\n",
    "    tf_train_dataset = tf.placeholder(tf.float32, shape=(batch_size,image_size*image_size)) #Placeholder dataset\n",
    "    tf_train_labels = tf.placeholder(tf.float32, shape = (batch_size, num_labels)) #Placeholder Labels\n",
    "    tf_valid_dataset = tf.constant(valid_dataset)\n",
    "    tf_test_dataset = tf.constant(test_dataset)\n",
    "    \n",
    "    #Variables\n",
    "    weights = tf.Variable(tf.truncated_normal([image_size*image_size,num_labels]))\n",
    "    biases = tf.Variable(tf.zeros([num_labels]))\n",
    "    \n",
    "    #Trianing Computation\n",
    "    logits = tf.matmul(tf_train_dataset,weights) + biases\n",
    "    \n",
    "    loss = tf.reduce_mean(tf.nn.softmax_cross_entropy_with_logits(labels = tf_train_labels,logits = logits))\n",
    "    loss = tf.reduce_mean(loss + beta*tf.nn.l2_loss(weights))\n",
    "    \n",
    "    #Optimizer\n",
    "    optimizer = tf.train.GradientDescentOptimizer(0.5).minimize(loss)\n",
    "    \n",
    "    #Prediction of training, valid and test data\n",
    "    train_prediction = tf.nn.softmax(logits)\n",
    "    valid_prediction = tf.nn.softmax(tf.matmul(valid_dataset,weights) +biases)\n",
    "    test_prediction = tf.nn.softmax(tf.matmul(test_dataset,weights) + biases)"
   ]
  },
  {
   "cell_type": "code",
   "execution_count": 34,
   "metadata": {
    "collapsed": false
   },
   "outputs": [
    {
     "name": "stdout",
     "output_type": "stream",
     "text": [
      "Initialized\n",
      "Minibatch loss at step 0: 50.664722\n",
      "Minibatch accuracy: 7.0%\n",
      "Validation accuracy : 9.0%\n",
      "Test accuracy: 9.0%\n",
      "Minibatch loss at step 500: 1.114048\n",
      "Minibatch accuracy: 74.2%\n",
      "Validation accuracy : 80.1%\n",
      "Test accuracy: 85.9%\n",
      "Minibatch loss at step 1000: 0.972003\n",
      "Minibatch accuracy: 75.8%\n",
      "Validation accuracy : 82.3%\n",
      "Test accuracy: 87.9%\n",
      "Minibatch loss at step 1500: 0.753501\n",
      "Minibatch accuracy: 85.2%\n",
      "Validation accuracy : 81.4%\n",
      "Test accuracy: 87.1%\n",
      "Minibatch loss at step 2000: 0.843287\n",
      "Minibatch accuracy: 78.1%\n",
      "Validation accuracy : 80.8%\n",
      "Test accuracy: 86.3%\n",
      "Minibatch loss at step 2500: 0.982983\n",
      "Minibatch accuracy: 74.2%\n",
      "Validation accuracy : 82.0%\n",
      "Test accuracy: 87.9%\n",
      "Minibatch loss at step 3000: 0.689573\n",
      "Minibatch accuracy: 82.8%\n",
      "Validation accuracy : 81.5%\n",
      "Test accuracy: 87.0%\n"
     ]
    }
   ],
   "source": [
    "num_steps = 3001\n",
    "\n",
    "with tf.Session(graph=graph) as sess:\n",
    "    tf.global_variables_initializer().run()\n",
    "    print(\"Initialized\")\n",
    "    for step in range(num_steps):\n",
    "        offset = (step*batch_size)%(train_labels.shape[0]-batch_size)\n",
    "        \n",
    "        batch_data = train_dataset[offset:offset+batch_size,:]\n",
    "        batch_labels = train_labels[offset:offset + batch_size,:]\n",
    "        \n",
    "        feed_dict = {tf_train_dataset: batch_data, tf_train_labels: batch_labels}\n",
    "        \n",
    "        _,l,prediction = sess.run([optimizer,loss,train_prediction], feed_dict=feed_dict)\n",
    "        if(step %500 == 0):\n",
    "            print(\"Minibatch loss at step %d: %f\"%(step,l))\n",
    "            print('Minibatch accuracy: %.1f%%'%accuracy(prediction,batch_labels))\n",
    "            print(\"Validation accuracy : %.1f%%\"%accuracy(valid_prediction.eval(),valid_labels))\n",
    "            print(\"Test accuracy: %.1f%%\"%accuracy(test_prediction.eval(),test_labels))"
   ]
  },
  {
   "cell_type": "code",
   "execution_count": 35,
   "metadata": {
    "collapsed": true
   },
   "outputs": [],
   "source": [
    "#Logistic Regression with l2 loss and small traning data\n",
    "# multinomial logistic regression \n",
    "train_subset = 100\n",
    "beta = 0.01\n",
    "\n",
    "graph = tf.Graph()\n",
    "with graph.as_default():\n",
    "\n",
    "    # Input data.\n",
    "    tf_train_dataset = tf.constant(train_dataset[:train_subset, :])\n",
    "    tf_train_labels = tf.constant(train_labels[:train_subset])\n",
    "    tf_valid_dataset = tf.constant(valid_dataset)\n",
    "    tf_test_dataset = tf.constant(test_dataset)\n",
    "  \n",
    "    # Variables    \n",
    "    weights = tf.Variable(\n",
    "    tf.truncated_normal([image_size * image_size, num_labels]))\n",
    "    biases = tf.Variable(tf.zeros([num_labels]))\n",
    "  \n",
    "    # Training computation.\n",
    "    logits = tf.matmul(tf_train_dataset, weights) + biases\n",
    "    \n",
    "    # loss function using l2\n",
    "    loss = tf.reduce_mean( tf.nn.softmax_cross_entropy_with_logits(logits, tf_train_labels) )\n",
    "    loss = tf.reduce_mean(loss + beta * tf.nn.l2_loss(weights) )\n",
    "    \n",
    "    # Optimizer.\n",
    "    optimizer = tf.train.GradientDescentOptimizer(0.5).minimize(loss)\n",
    "  \n",
    "    # Predictions for the training, validation, and test data.\n",
    "    train_prediction = tf.nn.softmax(logits)\n",
    "    valid_prediction = tf.nn.softmax( tf.matmul(tf_valid_dataset, weights) + biases )\n",
    "    test_prediction = tf.nn.softmax(tf.matmul(tf_test_dataset, weights) + biases)"
   ]
  },
  {
   "cell_type": "code",
   "execution_count": 37,
   "metadata": {
    "collapsed": false
   },
   "outputs": [
    {
     "name": "stdout",
     "output_type": "stream",
     "text": [
      "Initialized\n",
      "Loss at step 0: 45.902740\n",
      "Training accuracy: 6.0%\n",
      "Validation accuracy: 14.4%\n",
      "Loss at step 100: 11.073853\n",
      "Training accuracy: 100.0%\n",
      "Validation accuracy: 48.9%\n",
      "Loss at step 200: 4.131681\n",
      "Training accuracy: 100.0%\n",
      "Validation accuracy: 54.8%\n",
      "Loss at step 300: 1.593157\n",
      "Training accuracy: 100.0%\n",
      "Validation accuracy: 60.3%\n",
      "Loss at step 400: 0.666852\n",
      "Training accuracy: 100.0%\n",
      "Validation accuracy: 63.9%\n",
      "Loss at step 500: 0.328921\n",
      "Training accuracy: 100.0%\n",
      "Validation accuracy: 65.9%\n",
      "Loss at step 600: 0.205433\n",
      "Training accuracy: 100.0%\n",
      "Validation accuracy: 66.7%\n",
      "Loss at step 700: 0.160130\n",
      "Training accuracy: 100.0%\n",
      "Validation accuracy: 67.0%\n",
      "Loss at step 800: 0.143376\n",
      "Training accuracy: 100.0%\n",
      "Validation accuracy: 67.0%\n",
      "Test accuracy: 73.0%\n"
     ]
    }
   ],
   "source": [
    "num_steps = 801\n",
    "\n",
    "def accuracy(predictions, labels):\n",
    "  return (100.0 * np.sum(np.argmax(predictions, 1) == np.argmax(labels, 1))\n",
    "          / predictions.shape[0])\n",
    "\n",
    "with tf.Session(graph=graph) as session:\n",
    "    tf.global_variables_initializer().run()\n",
    "    print('Initialized')\n",
    "    for step in range(num_steps):\n",
    "        \n",
    "        _, l, predictions = session.run([optimizer, loss, train_prediction])\n",
    "\n",
    "        if (step % 100 == 0):\n",
    "            print('Loss at step %d: %f' % (step, l))\n",
    "            print('Training accuracy: %.1f%%' % accuracy(\n",
    "            predictions, train_labels[:train_subset, :]))\n",
    "            print('Validation accuracy: %.1f%%' % accuracy( valid_prediction.eval(), valid_labels) )\n",
    "\n",
    "    print('Test accuracy: %.1f%%' % accuracy(test_prediction.eval(), test_labels))"
   ]
  },
  {
   "cell_type": "code",
   "execution_count": 51,
   "metadata": {
    "collapsed": false
   },
   "outputs": [],
   "source": [
    "batch_size = 128\n",
    "beta = 0.001\n",
    "\n",
    "graph = tf.Graph()\n",
    "with graph.as_default():\n",
    "    #Input Variables\n",
    "    tf_train_dataset = tf.placeholder(tf.float32, shape=(batch_size,image_size*image_size))\n",
    "    tf_train_labels = tf.placeholder(tf.float32, shape=(batch_size,num_labels))\n",
    "    tf_valid_dataset = tf.constant(valid_dataset)\n",
    "    tf_test_dataset = tf.constant(test_dataset)\n",
    "    \n",
    "    #hidden layer\n",
    "    hidden_nodes =1024\n",
    "    hidden_weights = tf.Variable(tf.truncated_normal([image_size*image_size,hidden_nodes]))\n",
    "    hidden_biases = tf.Variable(tf.zeros([hidden_nodes]))\n",
    "    hidden_layer = tf.nn.relu(tf.matmul(tf_train_dataset,hidden_weights)+ hidden_biases)\n",
    "    \n",
    "    #add dropout to hidden layer\n",
    "    temp_prob = tf.placeholder(\"float\")\n",
    "    hidden_layer_dropout = tf.nn.dropout(hidden_layer,temp_prob)\n",
    "    \n",
    "    #Variables\n",
    "    weights = tf.Variable(tf.truncated_normal([hidden_nodes,num_labels]))\n",
    "    biases = tf.Variable(tf.zeros([num_labels]))\n",
    "    \n",
    "    # Training computation.\n",
    "    logits = tf.matmul(hidden_layer_dropout, weights) + biases\n",
    "    loss = tf.reduce_mean( tf.nn.softmax_cross_entropy_with_logits(logits, tf_train_labels) )\n",
    "    loss = tf.reduce_mean( loss + beta * tf.nn.l2_loss(weights) )\n",
    "\n",
    "    #Optimizer\n",
    "    #global_step = tf.Variable(0)  # count the number of steps taken.\n",
    "    #learning_rate = tf.train.exponential_decay(0.5, global_step, 100000, 0.95, staircase=True)\n",
    "    optimizer = tf.train.GradientDescentOptimizer(0.5).minimize(loss)\n",
    "    \n",
    "    #Prediction of training , validation and test data\n",
    "    train_prediction = tf.nn.softmax(logits)\n",
    "    valid_relu = tf.nn.relu(tf.matmul(tf_valid_dataset,hidden_weights)+hidden_biases)\n",
    "    valid_prediction = tf.nn.softmax(tf.matmul(valid_relu, weights)+ biases)\n",
    "    \n",
    "    test_relu = tf.nn.relu(tf.matmul(tf_test_dataset,hidden_weights)+hidden_biases)\n",
    "    test_prediction = tf.nn.softmax(tf.matmul(test_relu, weights)+ biases)"
   ]
  },
  {
   "cell_type": "code",
   "execution_count": 54,
   "metadata": {
    "collapsed": false
   },
   "outputs": [
    {
     "name": "stdout",
     "output_type": "stream",
     "text": [
      "Initialized\n",
      "Minibatch loss at step 0: 502.703400\n",
      "Minibatch accuracy: 6.2%\n",
      "Validation accuracy: 30.0%\n",
      "Minibatch loss at step 500: 35.359711\n",
      "Minibatch accuracy: 64.8%\n",
      "Validation accuracy: 78.3%\n",
      "Minibatch loss at step 1000: 15.539696\n",
      "Minibatch accuracy: 65.6%\n",
      "Validation accuracy: 81.1%\n",
      "Minibatch loss at step 1500: 15.145881\n",
      "Minibatch accuracy: 75.8%\n",
      "Validation accuracy: 79.7%\n",
      "Minibatch loss at step 2000: 26.630325\n",
      "Minibatch accuracy: 65.6%\n",
      "Validation accuracy: 75.9%\n",
      "Minibatch loss at step 2500: 12.055209\n",
      "Minibatch accuracy: 66.4%\n",
      "Validation accuracy: 79.0%\n",
      "Minibatch loss at step 3000: 5.227393\n",
      "Minibatch accuracy: 71.9%\n",
      "Validation accuracy: 80.8%\n",
      "Test accuracy: 86.6%\n"
     ]
    }
   ],
   "source": [
    "num_steps = 3001\n",
    "\n",
    "with tf.Session(graph=graph) as session:\n",
    "    tf.global_variables_initializer().run()\n",
    "    print(\"Initialized\")\n",
    "    for step in range(num_steps):\n",
    "        # Pick an offset within the training data, which has been randomized.\n",
    "        # Note: we could use better randomization across epochs.\n",
    "        offset = (step * batch_size) % (train_labels.shape[0] - batch_size)\n",
    "        # Generate a minibatch.\n",
    "        batch_data = train_dataset[offset:(offset + batch_size), :]\n",
    "        batch_labels = train_labels[offset:(offset + batch_size), :]\n",
    "\n",
    "        feed_dict = {tf_train_dataset : batch_data, tf_train_labels : batch_labels, temp_prob : 0.5}\n",
    "        _, l, predictions = session.run( [optimizer, loss, train_prediction], feed_dict=feed_dict)\n",
    "        if (step % 500 == 0):\n",
    "          print(\"Minibatch loss at step %d: %f\" % (step, l))\n",
    "          print(\"Minibatch accuracy: %.1f%%\" % accuracy(predictions, batch_labels))\n",
    "          print(\"Validation accuracy: %.1f%%\" % accuracy( valid_prediction.eval(), valid_labels) )\n",
    "    print(\"Test accuracy: %.1f%%\" % accuracy(test_prediction.eval(), test_labels))"
   ]
  },
  {
   "cell_type": "code",
   "execution_count": null,
   "metadata": {
    "collapsed": true
   },
   "outputs": [],
   "source": []
  }
 ],
 "metadata": {
  "kernelspec": {
   "display_name": "Python 3",
   "language": "python",
   "name": "python3"
  },
  "language_info": {
   "codemirror_mode": {
    "name": "ipython",
    "version": 3
   },
   "file_extension": ".py",
   "mimetype": "text/x-python",
   "name": "python",
   "nbconvert_exporter": "python",
   "pygments_lexer": "ipython3",
   "version": "3.5.2"
  }
 },
 "nbformat": 4,
 "nbformat_minor": 2
}
